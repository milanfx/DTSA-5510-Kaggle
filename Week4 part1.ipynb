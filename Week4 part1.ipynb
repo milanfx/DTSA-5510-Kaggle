{
 "cells": [
  {
   "cell_type": "markdown",
   "id": "345cc2f2",
   "metadata": {},
   "source": [
    "## BBC News Articles Classification Project"
   ]
  },
  {
   "cell_type": "markdown",
   "id": "3627240a",
   "metadata": {},
   "source": [
    "<div style=\"text-align:center\">\n",
    "<img src=\"https://github.com/milanfx/DTSA-5304/blob/main/image/kaggle.png?raw=true\" alt=\"image description\" width=\"800\">\n",
    "</div>"
   ]
  },
  {
   "cell_type": "markdown",
   "id": "0dce14cf",
   "metadata": {},
   "source": [
    "### 1. Peoject Description"
   ]
  },
  {
   "cell_type": "markdown",
   "id": "ff27a65e",
   "metadata": {},
   "source": [
    "Dataset Background: \n",
    "1. A public dataset from the BBC comprised of 2225 articles with label of 5 categories: business, entertainment, politics, sport or tech.\n",
    "2. The dataset is broken into 1490 records for training and 735 for testing. "
   ]
  },
  {
   "cell_type": "markdown",
   "id": "e86ffbaf",
   "metadata": {},
   "source": [
    "Project Goal: \n",
    "1. Build a model using the matrix factorization method to predict the test data labels and measure the performances of the model.\n",
    "2. Build a model using the supervised learning method to predict the test data labels and measure the performances of the model.\n",
    "3. Compare the result from both two models."
   ]
  },
  {
   "cell_type": "markdown",
   "id": "799081f2",
   "metadata": {},
   "source": [
    "### 2. Exploratory Data Analysis"
   ]
  },
  {
   "cell_type": "markdown",
   "id": "990c9139",
   "metadata": {},
   "source": [
    "First, we will complete the data cleaning, checking for null values and duplicate values."
   ]
  },
  {
   "cell_type": "markdown",
   "id": "3ac36511",
   "metadata": {},
   "source": [
    "Second, we will examine the distribution of the dependent variable and the statistical data of the text."
   ]
  },
  {
   "cell_type": "markdown",
   "id": "562f702d",
   "metadata": {},
   "source": [
    "Third, we will remove the stop_words and conduct TF-IDF transformation on the text data to give it data features for subsequent predictive analysis. TF-IDF is a method used to measure the importance of words in a text, which takes into account not only the frequency of occurrence of a word in the text, but also its frequency in the entire category. Hence, using TF-IDF method, we will be able to classify categories more easily by utilizing the existing text features. "
   ]
  },
  {
   "cell_type": "code",
   "execution_count": 27,
   "id": "c06727a4",
   "metadata": {},
   "outputs": [],
   "source": [
    "import numpy as np\n",
    "import pandas as pd\n",
    "import matplotlib.pyplot as plt\n",
    "import seaborn as sns\n",
    "import itertools\n",
    "\n",
    "from sklearn.feature_extraction.text import TfidfVectorizer, CountVectorizer\n",
    "from sklearn.decomposition import NMF\n",
    "from sklearn.linear_model import LogisticRegression\n",
    "from sklearn.ensemble import RandomForestClassifier\n",
    "from sklearn.model_selection import cross_val_score, train_test_split, GridSearchCV, classification_report, confusion_matrix\n",
    "from sklearn.metrics import accuracy_score, confusion_matrix\n",
    "from collections import Counter\n",
    "\n",
    "from nltk.tokenize import word_tokenize\n",
    "from nltk.corpus import stopwords\n",
    "import nltk\n",
    "import warnings"
   ]
  },
  {
   "cell_type": "markdown",
   "id": "64050bdb",
   "metadata": {},
   "source": [
    "#### 2.1 Loading Data"
   ]
  },
  {
   "cell_type": "code",
   "execution_count": 45,
   "id": "0c65eb68",
   "metadata": {},
   "outputs": [],
   "source": [
    "train = pd.read_csv('BBC News Train.csv')\n",
    "test = pd.read_csv('BBC News Test.csv')"
   ]
  },
  {
   "cell_type": "code",
   "execution_count": 46,
   "id": "7cd8d5d4",
   "metadata": {},
   "outputs": [
    {
     "data": {
      "text/plain": [
       "(1490, 3)"
      ]
     },
     "execution_count": 46,
     "metadata": {},
     "output_type": "execute_result"
    }
   ],
   "source": [
    "train.shape"
   ]
  },
  {
   "cell_type": "code",
   "execution_count": 47,
   "id": "5a51a6b3",
   "metadata": {},
   "outputs": [
    {
     "name": "stdout",
     "output_type": "stream",
     "text": [
      "<class 'pandas.core.frame.DataFrame'>\n",
      "RangeIndex: 1490 entries, 0 to 1489\n",
      "Data columns (total 3 columns):\n",
      " #   Column     Non-Null Count  Dtype \n",
      "---  ------     --------------  ----- \n",
      " 0   ArticleId  1490 non-null   int64 \n",
      " 1   Text       1490 non-null   object\n",
      " 2   Category   1490 non-null   object\n",
      "dtypes: int64(1), object(2)\n",
      "memory usage: 35.0+ KB\n"
     ]
    }
   ],
   "source": [
    "train.info()"
   ]
  },
  {
   "cell_type": "code",
   "execution_count": 48,
   "id": "fcaff025",
   "metadata": {},
   "outputs": [
    {
     "data": {
      "text/html": [
       "<div>\n",
       "<style scoped>\n",
       "    .dataframe tbody tr th:only-of-type {\n",
       "        vertical-align: middle;\n",
       "    }\n",
       "\n",
       "    .dataframe tbody tr th {\n",
       "        vertical-align: top;\n",
       "    }\n",
       "\n",
       "    .dataframe thead th {\n",
       "        text-align: right;\n",
       "    }\n",
       "</style>\n",
       "<table border=\"1\" class=\"dataframe\">\n",
       "  <thead>\n",
       "    <tr style=\"text-align: right;\">\n",
       "      <th></th>\n",
       "      <th>ArticleId</th>\n",
       "      <th>Text</th>\n",
       "      <th>Category</th>\n",
       "    </tr>\n",
       "  </thead>\n",
       "  <tbody>\n",
       "    <tr>\n",
       "      <th>0</th>\n",
       "      <td>1833</td>\n",
       "      <td>worldcom ex-boss launches defence lawyers defe...</td>\n",
       "      <td>business</td>\n",
       "    </tr>\n",
       "    <tr>\n",
       "      <th>1</th>\n",
       "      <td>154</td>\n",
       "      <td>german business confidence slides german busin...</td>\n",
       "      <td>business</td>\n",
       "    </tr>\n",
       "    <tr>\n",
       "      <th>2</th>\n",
       "      <td>1101</td>\n",
       "      <td>bbc poll indicates economic gloom citizens in ...</td>\n",
       "      <td>business</td>\n",
       "    </tr>\n",
       "    <tr>\n",
       "      <th>3</th>\n",
       "      <td>1976</td>\n",
       "      <td>lifestyle  governs mobile choice  faster  bett...</td>\n",
       "      <td>tech</td>\n",
       "    </tr>\n",
       "    <tr>\n",
       "      <th>4</th>\n",
       "      <td>917</td>\n",
       "      <td>enron bosses in $168m payout eighteen former e...</td>\n",
       "      <td>business</td>\n",
       "    </tr>\n",
       "    <tr>\n",
       "      <th>5</th>\n",
       "      <td>1582</td>\n",
       "      <td>howard  truanted to play snooker  conservative...</td>\n",
       "      <td>politics</td>\n",
       "    </tr>\n",
       "    <tr>\n",
       "      <th>6</th>\n",
       "      <td>651</td>\n",
       "      <td>wales silent on grand slam talk rhys williams ...</td>\n",
       "      <td>sport</td>\n",
       "    </tr>\n",
       "    <tr>\n",
       "      <th>7</th>\n",
       "      <td>1797</td>\n",
       "      <td>french honour for director parker british film...</td>\n",
       "      <td>entertainment</td>\n",
       "    </tr>\n",
       "    <tr>\n",
       "      <th>8</th>\n",
       "      <td>2034</td>\n",
       "      <td>car giant hit by mercedes slump a slump in pro...</td>\n",
       "      <td>business</td>\n",
       "    </tr>\n",
       "    <tr>\n",
       "      <th>9</th>\n",
       "      <td>1866</td>\n",
       "      <td>fockers fuel festive film chart comedy meet th...</td>\n",
       "      <td>entertainment</td>\n",
       "    </tr>\n",
       "  </tbody>\n",
       "</table>\n",
       "</div>"
      ],
      "text/plain": [
       "   ArticleId                                               Text       Category\n",
       "0       1833  worldcom ex-boss launches defence lawyers defe...       business\n",
       "1        154  german business confidence slides german busin...       business\n",
       "2       1101  bbc poll indicates economic gloom citizens in ...       business\n",
       "3       1976  lifestyle  governs mobile choice  faster  bett...           tech\n",
       "4        917  enron bosses in $168m payout eighteen former e...       business\n",
       "5       1582  howard  truanted to play snooker  conservative...       politics\n",
       "6        651  wales silent on grand slam talk rhys williams ...          sport\n",
       "7       1797  french honour for director parker british film...  entertainment\n",
       "8       2034  car giant hit by mercedes slump a slump in pro...       business\n",
       "9       1866  fockers fuel festive film chart comedy meet th...  entertainment"
      ]
     },
     "execution_count": 48,
     "metadata": {},
     "output_type": "execute_result"
    }
   ],
   "source": [
    "train.head(10)"
   ]
  },
  {
   "cell_type": "markdown",
   "id": "b14c3954",
   "metadata": {},
   "source": [
    "We are going to use 'Text' to predict 'Category'"
   ]
  },
  {
   "cell_type": "markdown",
   "id": "398b1b6d",
   "metadata": {},
   "source": [
    "#### 2.2 Checking Missing Value"
   ]
  },
  {
   "cell_type": "code",
   "execution_count": 49,
   "id": "1e17d104",
   "metadata": {},
   "outputs": [
    {
     "data": {
      "text/plain": [
       "ArticleId    0\n",
       "Text         0\n",
       "Category     0\n",
       "dtype: int64"
      ]
     },
     "execution_count": 49,
     "metadata": {},
     "output_type": "execute_result"
    }
   ],
   "source": [
    "train.isnull().sum()"
   ]
  },
  {
   "cell_type": "markdown",
   "id": "4744ebd9",
   "metadata": {},
   "source": [
    "There is no missing value."
   ]
  },
  {
   "cell_type": "markdown",
   "id": "4f4530fe",
   "metadata": {},
   "source": [
    "#### 2.3 Checking Duplicates"
   ]
  },
  {
   "cell_type": "code",
   "execution_count": 50,
   "id": "e9fa910d",
   "metadata": {},
   "outputs": [
    {
     "data": {
      "text/plain": [
       "50"
      ]
     },
     "execution_count": 50,
     "metadata": {},
     "output_type": "execute_result"
    }
   ],
   "source": [
    "duplicates = train.duplicated(subset=[\"Text\"]).sum()\n",
    "duplicates"
   ]
  },
  {
   "cell_type": "code",
   "execution_count": 51,
   "id": "bc98e2f2",
   "metadata": {},
   "outputs": [
    {
     "data": {
      "text/plain": [
       "(1440, 3)"
      ]
     },
     "execution_count": 51,
     "metadata": {},
     "output_type": "execute_result"
    }
   ],
   "source": [
    "train.drop_duplicates(subset=[\"Text\"], inplace=True)\n",
    "train.shape"
   ]
  },
  {
   "cell_type": "markdown",
   "id": "7711e170",
   "metadata": {},
   "source": [
    "There are 50 'Text' duplicates removed from train set."
   ]
  },
  {
   "cell_type": "markdown",
   "id": "0c70b92e",
   "metadata": {},
   "source": [
    "#### 2.4 Checking Distribution"
   ]
  },
  {
   "cell_type": "code",
   "execution_count": 52,
   "id": "8202151e",
   "metadata": {},
   "outputs": [
    {
     "data": {
      "text/plain": [
       "<AxesSubplot:xlabel='Category', ylabel='Count'>"
      ]
     },
     "execution_count": 52,
     "metadata": {},
     "output_type": "execute_result"
    },
    {
     "data": {
      "image/png": "[encoded data removed]",
      "text/plain": [
       "<Figure size 432x288 with 1 Axes>"
      ]
     },
     "metadata": {
      "needs_background": "light"
     },
     "output_type": "display_data"
    }
   ],
   "source": [
    "fig = plt.figure(figsize=(6, 4))\n",
    "sns.histplot(train[\"Category\"], bins=20)"
   ]
  },
  {
   "cell_type": "markdown",
   "id": "86c9c93e",
   "metadata": {},
   "source": [
    "The difference in the number of categories is not significant, so we will keep all of them."
   ]
  },
  {
   "cell_type": "markdown",
   "id": "1840f129",
   "metadata": {},
   "source": [
    "#### 2.5 Checking Word Distribution"
   ]
  },
  {
   "cell_type": "markdown",
   "id": "0815b6c7",
   "metadata": {},
   "source": [
    "Total Word"
   ]
  },
  {
   "cell_type": "code",
   "execution_count": 53,
   "id": "cee59be3",
   "metadata": {},
   "outputs": [
    {
     "name": "stdout",
     "output_type": "stream",
     "text": [
      "Total World: 554711\n"
     ]
    },
    {
     "data": {
      "image/png": "[encoded data removed]",
      "text/plain": [
       "<Figure size 1440x432 with 1 Axes>"
      ]
     },
     "metadata": {
      "needs_background": "light"
     },
     "output_type": "display_data"
    }
   ],
   "source": [
    "# Count Words\n",
    "all_text = train['Text'].str.cat(sep=' ')\n",
    "words = all_text.lower().split()\n",
    "total_words = len(words)\n",
    "print('Total World:', total_words)\n",
    "word_counts = Counter(words)\n",
    "top_words = word_counts.most_common(50)\n",
    "words = [word[0] for word in top_words]\n",
    "counts = [word[1] for word in top_words]\n",
    "# Bar Chart\n",
    "plt.figure(figsize=(20, 6))\n",
    "plt.bar(words, counts)\n",
    "plt.xticks(rotation=45)\n",
    "plt.title('Top 50 Words')\n",
    "plt.xlabel('Words')\n",
    "plt.ylabel('Counts')\n",
    "plt.show()"
   ]
  },
  {
   "cell_type": "markdown",
   "id": "7dee274f",
   "metadata": {},
   "source": [
    "Total Unique Word"
   ]
  },
  {
   "cell_type": "code",
   "execution_count": 54,
   "id": "4b231b50",
   "metadata": {},
   "outputs": [
    {
     "name": "stdout",
     "output_type": "stream",
     "text": [
      "Total unique words: 35594\n"
     ]
    }
   ],
   "source": [
    "unique_words = set()\n",
    "categories = train['Category'].unique()\n",
    "\n",
    "for cat in categories:\n",
    "    text = train[train['Category'] == cat]['Text'].str.cat(sep=' ')\n",
    "    words = text.lower().split()\n",
    "    unique_words.update(words)\n",
    "\n",
    "unique_words_counts = len(unique_words)\n",
    "print(\"Total unique words: {}\".format(unique_words_counts))"
   ]
  },
  {
   "cell_type": "code",
   "execution_count": 55,
   "id": "99d35f1f",
   "metadata": {},
   "outputs": [
    {
     "data": {
      "image/png": "[encoded data removed]",
      "text/plain": [
       "<Figure size 432x288 with 1 Axes>"
      ]
     },
     "metadata": {
      "needs_background": "light"
     },
     "output_type": "display_data"
    }
   ],
   "source": [
    "categories = train['Category'].unique()\n",
    "\n",
    "for cat in categories:\n",
    "    text = train[train['Category'] == cat]['Text'].str.cat(sep=' ')\n",
    "    words = text.lower().split()\n",
    "    unique_words = set(words)\n",
    "    unique_word_counts = len(unique_words)\n",
    "    category_word_counts = [len(train[train['Category'] == cat]['Text'].str.lower().str.split().explode().unique()) for cat in categories]\n",
    "\n",
    "fig, ax = plt.subplots(figsize=(6, 4))\n",
    "ax.bar(categories, category_word_counts)\n",
    "ax.set_xlabel('Category')\n",
    "ax.set_ylabel('Number of Unique Words')\n",
    "ax.set_title('Unique Words per Category')\n",
    "plt.show()"
   ]
  },
  {
   "cell_type": "markdown",
   "id": "4b45f04c",
   "metadata": {},
   "source": [
    "#### 2.6 Checking Words Format"
   ]
  },
  {
   "cell_type": "code",
   "execution_count": 56,
   "id": "03b003c9",
   "metadata": {},
   "outputs": [
    {
     "data": {
      "text/plain": [
       "'worldcom ex-boss launches defence lawyers defending former worldcom chief bernie ebbers against a battery of fraud charges have called a company whistleblower as their first witness.  cynthia cooper  worldcom s ex-head of internal accounting  alerted directors to irregular accounting practices at the us telecoms giant in 2002. her warnings led to the collapse of the firm following the discovery of an $11bn (£5.7bn) accounting fraud. mr ebbers has pleaded not guilty to charges of fraud and conspiracy.  prosecution lawyers have argued that mr ebbers orchestrated a series of accounting tricks at worldcom  ordering employees to hide expenses and inflate revenues to meet wall street earnings estimates. but ms cooper  who now runs her own consulting business  told a jury in new york on wednesday that external auditors arthur andersen had approved worldcom s accounting in early 2001 and 2002. she said andersen had given a  green light  to the procedures and practices used by worldcom. mr ebber s lawyers have said he was unaware of the fraud  arguing that auditors did not alert him to any problems.  ms cooper also said that during shareholder meetings mr ebbers often passed over technical questions to the company s finance chief  giving only  brief  answers himself. the prosecution s star witness  former worldcom financial chief scott sullivan  has said that mr ebbers ordered accounting adjustments at the firm  telling him to  hit our books . however  ms cooper said mr sullivan had not mentioned  anything uncomfortable  about worldcom s accounting during a 2001 audit committee meeting. mr ebbers could face a jail sentence of 85 years if convicted of all the charges he is facing. worldcom emerged from bankruptcy protection in 2004  and is now known as mci. last week  mci agreed to a buyout by verizon communications in a deal valued at $6.75bn.'"
      ]
     },
     "execution_count": 56,
     "metadata": {},
     "output_type": "execute_result"
    }
   ],
   "source": [
    "train.loc[0, 'Text']"
   ]
  },
  {
   "cell_type": "code",
   "execution_count": 57,
   "id": "35de23c9",
   "metadata": {},
   "outputs": [],
   "source": [
    "train['Text'] = train['Text'].str.lower()"
   ]
  },
  {
   "cell_type": "markdown",
   "id": "ef14aa27",
   "metadata": {},
   "source": [
    "#### 2.7 TF-IDF Transformation"
   ]
  },
  {
   "cell_type": "markdown",
   "id": "e3f28d1b",
   "metadata": {},
   "source": [
    "Find the best max_df and min_df, and also remove stop_words"
   ]
  },
  {
   "cell_type": "code",
   "execution_count": 60,
   "id": "be3200cd",
   "metadata": {},
   "outputs": [
    {
     "name": "stdout",
     "output_type": "stream",
     "text": [
      "(1440, 4878)\n",
      "(735, 4878)\n"
     ]
    }
   ],
   "source": [
    "tf = TfidfVectorizer(sublinear_tf=True,\n",
    "                            max_df=0.8, #try 0.5, 0.7, 0.9\n",
    "                            min_df=8, # try 6, 8, 10\n",
    "                            stop_words=\"english\")\n",
    "tf.fit(train[\"Text\"])\n",
    "tf_train = tf.transform(train[\"Text\"])\n",
    "tf_test = tf.transform(test[\"Text\"])\n",
    "print(tf_train.shape)\n",
    "print(tf_test.shape)"
   ]
  },
  {
   "cell_type": "markdown",
   "id": "1ed25717",
   "metadata": {},
   "source": [
    "Using a TF-IDF vectorizer to transform text data into numerical features."
   ]
  },
  {
   "cell_type": "markdown",
   "id": "509429b5",
   "metadata": {},
   "source": [
    "### 3. Building Supervised Model"
   ]
  },
  {
   "cell_type": "markdown",
   "id": "5f0e7a3c",
   "metadata": {},
   "source": [
    "First, I will run Random Forest Classifier Model with the best hyperparameters.\n",
    "\n",
    "Then, I will run Logistic Regression and compare the result with Random Forest Classifier.\n",
    "\n",
    "Lastly, I will choose the better model to see if the model is data-efficient."
   ]
  },
  {
   "cell_type": "markdown",
   "id": "74c5065c",
   "metadata": {},
   "source": [
    "#### 3.1 Random Forest Classifier Model"
   ]
  },
  {
   "cell_type": "code",
   "execution_count": 61,
   "id": "7308e12b",
   "metadata": {},
   "outputs": [],
   "source": [
    "X_train, X_valid, y_train, y_valid = train_test_split(tf_train, train['Category'], test_size=0.3, random_state=26)"
   ]
  },
  {
   "cell_type": "code",
   "execution_count": 71,
   "id": "564b49fb",
   "metadata": {},
   "outputs": [
    {
     "name": "stdout",
     "output_type": "stream",
     "text": [
      "Best parameters: {'max_depth': None, 'min_samples_leaf': 1, 'min_samples_split': 8, 'n_estimators': 100}\n",
      "Validation Accuracy: 0.8981481481481481\n"
     ]
    },
    {
     "data": {
      "image/png": "[encoded data removed]",
      "text/plain": [
       "<Figure size 432x288 with 2 Axes>"
      ]
     },
     "metadata": {
      "needs_background": "light"
     },
     "output_type": "display_data"
    }
   ],
   "source": [
    "rf = RandomForestClassifier(random_state=26)\n",
    "# hyper\n",
    "param_grid = {\n",
    "    'n_estimators': [100, 200, 300],\n",
    "    'max_depth': [None, 10, 20],\n",
    "    'min_samples_split': [2, 4, 8],\n",
    "    'min_samples_leaf': [1, 2, 4]\n",
    "}\n",
    "# grid search\n",
    "grid_search = GridSearchCV(rf, param_grid, cv=5, n_jobs=-1)\n",
    "grid_search.fit(X_train, y_train)\n",
    "y_pred = grid_search.predict(X_valid)\n",
    "# best params\n",
    "print('Best parameters:', grid_search.best_params_)\n",
    "print('Validation Accuracy:', accuracy_score(y_valid, y_pred))\n",
    "\n",
    "cm = confusion_matrix(y_valid, y_pred)\n",
    "sns.heatmap(cm, annot=True, fmt='g', cmap='Reds', xticklabels=grid_search.classes_, yticklabels=grid_search.classes_)\n",
    "plt.xlabel('Predicted')\n",
    "plt.ylabel('Actual')\n",
    "plt.show()\n",
    "\n",
    "y_test_pred = grid_search.predict(tf_test)\n",
    "output = pd.DataFrame({'ArticleId': test['ArticleId'], 'Category': y_test_pred})\n",
    "output.to_csv('rf100.csv', index=False)"
   ]
  },
  {
   "cell_type": "markdown",
   "id": "5b8a2408",
   "metadata": {},
   "source": [
    "#### 3.2 Logistic Regression with 100% Lables:"
   ]
  },
  {
   "cell_type": "markdown",
   "id": "3d496b77",
   "metadata": {},
   "source": [
    "Logistic Regression Model perform much better than Random Forest Classifier Model on this data set"
   ]
  },
  {
   "cell_type": "code",
   "execution_count": 62,
   "id": "ec648440",
   "metadata": {},
   "outputs": [
    {
     "name": "stdout",
     "output_type": "stream",
     "text": [
      "Validation Accuracy: 0.9652777777777778\n"
     ]
    },
    {
     "data": {
      "image/png": "[encoded data removed]",
      "text/plain": [
       "<Figure size 432x288 with 2 Axes>"
      ]
     },
     "metadata": {
      "needs_background": "light"
     },
     "output_type": "display_data"
    }
   ],
   "source": [
    "lr = LogisticRegression(random_state=26)\n",
    "lr.fit(X_train, y_train)\n",
    "y_pred = lr.predict(X_valid)\n",
    "acc = accuracy_score(y_valid, y_pred)\n",
    "print(\"Validation Accuracy:\", acc)\n",
    "cm = confusion_matrix(y_valid, y_pred)\n",
    "sns.heatmap(cm, annot=True, fmt='g', cmap='Reds', xticklabels=lr.classes_, yticklabels=lr.classes_)\n",
    "plt.xlabel('Predicted')\n",
    "plt.ylabel('Actual')\n",
    "plt.show()\n",
    "y_test_pred = lr.predict(tf_test)\n",
    "# Save\n",
    "output = pd.DataFrame({'ArticleId': test['ArticleId'], 'Category': y_test_pred})\n",
    "output.to_csv('lr100.csv', index=False)"
   ]
  },
  {
   "cell_type": "markdown",
   "id": "13c25ce1",
   "metadata": {},
   "source": [
    "#### 3.3 Logistic Regression with 75% Lables:"
   ]
  },
  {
   "cell_type": "code",
   "execution_count": 63,
   "id": "6983fc89",
   "metadata": {},
   "outputs": [],
   "source": [
    "train_75 = train.sample(frac=0.75, random_state=26)\n",
    "tf = TfidfVectorizer(sublinear_tf=True,\n",
    "                            max_df=0.8, #try 0.5, 0.7, 0.9\n",
    "                            min_df=8, # try 6, 8, 10\n",
    "                            stop_words=\"english\")\n",
    "tf.fit(train_75[\"Text\"])\n",
    "tf_train = tf.transform(train_75[\"Text\"])\n",
    "tf_test = tf.transform(test[\"Text\"])\n",
    "X_train, X_valid, y_train, y_valid = train_test_split(tf_train, train_75['Category'], test_size=0.3, random_state=26)"
   ]
  },
  {
   "cell_type": "code",
   "execution_count": 64,
   "id": "ee422411",
   "metadata": {},
   "outputs": [
    {
     "name": "stdout",
     "output_type": "stream",
     "text": [
      "Validation Accuracy: 0.9475308641975309\n"
     ]
    },
    {
     "data": {
      "image/png": "[encoded data removed]",
      "text/plain": [
       "<Figure size 432x288 with 2 Axes>"
      ]
     },
     "metadata": {
      "needs_background": "light"
     },
     "output_type": "display_data"
    }
   ],
   "source": [
    "lr = LogisticRegression(random_state=26)\n",
    "lr.fit(X_train, y_train)\n",
    "y_pred = lr.predict(X_valid)\n",
    "acc = accuracy_score(y_valid, y_pred)\n",
    "print(\"Validation Accuracy:\", acc)\n",
    "cm = confusion_matrix(y_valid, y_pred)\n",
    "sns.heatmap(cm, annot=True, fmt='g', cmap='Reds', xticklabels=lr.classes_, yticklabels=lr.classes_)\n",
    "plt.xlabel('Predicted')\n",
    "plt.ylabel('Actual')\n",
    "plt.show()\n",
    "y_test_pred = lr.predict(tf_test)\n",
    "# Save\n",
    "output = pd.DataFrame({'ArticleId': test['ArticleId'], 'Category': y_test_pred})\n",
    "output.to_csv('lr75.csv', index=False)"
   ]
  },
  {
   "cell_type": "markdown",
   "id": "ec481c20",
   "metadata": {},
   "source": [
    "#### 3.4 Logistic Regression with 50% Lables:"
   ]
  },
  {
   "cell_type": "code",
   "execution_count": 65,
   "id": "5006941f",
   "metadata": {},
   "outputs": [],
   "source": [
    "train_50 = train.sample(frac=0.50, random_state=26)\n",
    "tf = TfidfVectorizer(sublinear_tf=True,\n",
    "                            max_df=0.8, #try 0.5, 0.7, 0.9\n",
    "                            min_df=8, # try 6, 8, 10\n",
    "                            stop_words=\"english\")\n",
    "tf.fit(train_50[\"Text\"])\n",
    "tf_train = tf.transform(train_50[\"Text\"])\n",
    "tf_test = tf.transform(test[\"Text\"])\n",
    "X_train, X_valid, y_train, y_valid = train_test_split(tf_train, train_50['Category'], test_size=0.3, random_state=26)"
   ]
  },
  {
   "cell_type": "code",
   "execution_count": 66,
   "id": "597d9262",
   "metadata": {},
   "outputs": [
    {
     "name": "stdout",
     "output_type": "stream",
     "text": [
      "Validation Accuracy: 0.9490740740740741\n"
     ]
    },
    {
     "data": {
      "image/png": "[encoded data removed]",
      "text/plain": [
       "<Figure size 432x288 with 2 Axes>"
      ]
     },
     "metadata": {
      "needs_background": "light"
     },
     "output_type": "display_data"
    }
   ],
   "source": [
    "lr = LogisticRegression(random_state=26)\n",
    "lr.fit(X_train, y_train)\n",
    "y_pred = lr.predict(X_valid)\n",
    "acc = accuracy_score(y_valid, y_pred)\n",
    "print(\"Validation Accuracy:\", acc)\n",
    "cm = confusion_matrix(y_valid, y_pred)\n",
    "sns.heatmap(cm, annot=True, fmt='g', cmap='Reds', xticklabels=lr.classes_, yticklabels=lr.classes_)\n",
    "plt.xlabel('Predicted')\n",
    "plt.ylabel('Actual')\n",
    "plt.show()\n",
    "y_test_pred = lr.predict(tf_test)\n",
    "# Save\n",
    "output = pd.DataFrame({'ArticleId': test['ArticleId'], 'Category': y_test_pred})\n",
    "output.to_csv('lr50.csv', index=False)"
   ]
  },
  {
   "cell_type": "markdown",
   "id": "044583e2",
   "metadata": {},
   "source": [
    "#### 3.5 Logistic Regression with 25% Lables:"
   ]
  },
  {
   "cell_type": "code",
   "execution_count": 67,
   "id": "f1419d4b",
   "metadata": {},
   "outputs": [],
   "source": [
    "train_25 = train.sample(frac=0.25, random_state=26)\n",
    "tf = TfidfVectorizer(sublinear_tf=True,\n",
    "                            max_df=0.8, #try 0.5, 0.7, 0.9\n",
    "                            min_df=8, # try 6, 8, 10\n",
    "                            stop_words=\"english\")\n",
    "tf.fit(train_25[\"Text\"])\n",
    "tf_train = tf.transform(train_25[\"Text\"])\n",
    "tf_test = tf.transform(test[\"Text\"])\n",
    "X_train, X_valid, y_train, y_valid = train_test_split(tf_train, train_25['Category'], test_size=0.3, random_state=26)"
   ]
  },
  {
   "cell_type": "code",
   "execution_count": 68,
   "id": "4726883b",
   "metadata": {},
   "outputs": [
    {
     "name": "stdout",
     "output_type": "stream",
     "text": [
      "Validation Accuracy: 0.9722222222222222\n"
     ]
    },
    {
     "data": {
      "image/png": "[encoded data removed]",
      "text/plain": [
       "<Figure size 432x288 with 2 Axes>"
      ]
     },
     "metadata": {
      "needs_background": "light"
     },
     "output_type": "display_data"
    }
   ],
   "source": [
    "lr = LogisticRegression(random_state=26)\n",
    "lr.fit(X_train, y_train)\n",
    "y_pred = lr.predict(X_valid)\n",
    "acc = accuracy_score(y_valid, y_pred)\n",
    "print(\"Validation Accuracy:\", acc)\n",
    "cm = confusion_matrix(y_valid, y_pred)\n",
    "sns.heatmap(cm, annot=True, fmt='g', cmap='Reds', xticklabels=lr.classes_, yticklabels=lr.classes_)\n",
    "plt.xlabel('Predicted')\n",
    "plt.ylabel('Actual')\n",
    "plt.show()\n",
    "y_test_pred = lr.predict(tf_test)\n",
    "# Save\n",
    "output = pd.DataFrame({'ArticleId': test['ArticleId'], 'Category': y_test_pred})\n",
    "output.to_csv('lr25.csv', index=False)"
   ]
  },
  {
   "cell_type": "markdown",
   "id": "72243073",
   "metadata": {},
   "source": [
    "<div style=\"text-align:center\">\n",
    "<img src=\"https://github.com/milanfx/DTSA-5304/blob/main/image/Logistic%20Regression.png?raw=true\" alt=\"image description\" width=\"800\">\n",
    "</div>"
   ]
  },
  {
   "cell_type": "markdown",
   "id": "226bf71b",
   "metadata": {},
   "source": [
    "-----Logistic Regression Model Score: 0.98231(100%), 0.97551(75%), 0.95918(50%), 0.94149(25%)-----"
   ]
  },
  {
   "cell_type": "markdown",
   "id": "4ebcd616",
   "metadata": {},
   "source": [
    "1. The Logistic Regression achieves an accuracy of over 98% on the entire dataset.\n",
    "\n",
    "2. On a 25% sample, the score is over 94%, indicating that it is very data-efficient. \n",
    "\n",
    "3. In addition, there is no overfitting in Logistic Regression."
   ]
  },
  {
   "cell_type": "markdown",
   "id": "9449df20",
   "metadata": {},
   "source": [
    "### 4. Building Unsupervised Model"
   ]
  },
  {
   "cell_type": "markdown",
   "id": "d6f29a40",
   "metadata": {},
   "source": [
    "First, I will find the best hyperparameters for Non-negative Matrix Facorization Model.\n",
    "\n",
    "Then, I will test its performance on different scope of data size.\n",
    "\n",
    "Lastly, I will compare the results with those from Logistic Regression."
   ]
  },
  {
   "cell_type": "markdown",
   "id": "ba773a3e",
   "metadata": {},
   "source": [
    "#### 4.1 Non-negative Matrix Facorization Model Tuning Hyperparameters"
   ]
  },
  {
   "cell_type": "code",
   "execution_count": 105,
   "id": "b7f87322",
   "metadata": {},
   "outputs": [
    {
     "name": "stdout",
     "output_type": "stream",
     "text": [
      "Train Accuracy: 0.9583333333333334\n"
     ]
    }
   ],
   "source": [
    "tf = TfidfVectorizer(sublinear_tf=True,\n",
    "                     max_df=0.8,\n",
    "                     min_df=8,\n",
    "                     stop_words='english')\n",
    "tf.fit(train['Text'])\n",
    "tf_train = tf.transform(train['Text'])\n",
    "tf_test = tf.transform(test['Text'])\n",
    "\n",
    "nmf = NMF(train['Category'].nunique(),\n",
    "          init = 'nndsvda',\n",
    "          random_state= 0,                  ##'random' 'nndsvd ' 'nndsvda' 'nndsvdar' 'custom'\n",
    "          beta_loss = 'kullback-leibler',   ## 'frobenius' 'kullback-leibler'  'itakura-saito'\n",
    "          solver = 'mu',                     ## 'mu'  , 'cd'\n",
    "          max_iter = 200,        \n",
    "          alpha_W = 0.0001)                   ## 0.0001 0.001 , 0.005, 0.01\n",
    "         \n",
    "nmf.fit(tf_train)\n",
    "y_pred = np.array([np.argmax(i) for i in nmf.transform(tf_train)])\n",
    "y_true = np.array(train.Category).reshape(-1)\n",
    "uni_labels = np.unique(y_true)\n",
    "best_perm = None\n",
    "best_acc = 0\n",
    "for i, label in enumerate(uni_labels):\n",
    "    for perm in itertools.permutations(range(len(uni_labels))):\n",
    "        perm_label_map = {label: int_label for label, int_label in zip(uni_labels, perm)}\n",
    "        perm_labels = np.array([perm_label_map[label] for label in y_true])\n",
    "        acc = np.mean(perm_labels == y_pred)\n",
    "        if acc > best_acc:\n",
    "            best_perm = {num: l for num, l in zip(perm, uni_labels)}\n",
    "            best_acc = acc\n",
    "print('Train Accuracy:', best_acc)"
   ]
  },
  {
   "cell_type": "markdown",
   "id": "cc56d66f",
   "metadata": {},
   "source": [
    "The Best Parameters is init = 'nndsvda',beta_loss = 'kullback-leibler',solver = 'mu',  max_iter = 200,alpha_W = 0.0001)\n",
    "\n",
    "The Best Performance on training set is 0.9583333333333334"
   ]
  },
  {
   "cell_type": "markdown",
   "id": "37a556b8",
   "metadata": {},
   "source": [
    "#### 4.2 Non-negative Matrix Facorization Model with 100% Lables:"
   ]
  },
  {
   "cell_type": "code",
   "execution_count": 155,
   "id": "d04c76a0",
   "metadata": {},
   "outputs": [
    {
     "name": "stdout",
     "output_type": "stream",
     "text": [
      "Train Accuracy: 0.9583333333333334\n"
     ]
    }
   ],
   "source": [
    "tf = TfidfVectorizer(sublinear_tf=True,\n",
    "                     max_df=0.8,\n",
    "                     min_df=8,\n",
    "                     stop_words='english')\n",
    "tf.fit(train['Text'])\n",
    "tf_train = tf.transform(train['Text'])\n",
    "tf_test = tf.transform(test['Text'])\n",
    "nmf = NMF(train['Category'].nunique(), random_state=0, init = 'nndsvda',beta_loss = 'kullback-leibler',\n",
    "          solver = 'mu', max_iter = 200,alpha_W = 0.0001)\n",
    "         \n",
    "nmf.fit(tf_train)\n",
    "y_pred = np.array([np.argmax(i) for i in nmf.transform(tf_train)])\n",
    "y_true = np.array(train.Category).reshape(-1)\n",
    "uni_labels = np.unique(y_true)\n",
    "best_perm = None\n",
    "best_acc = 0\n",
    "for i, label in enumerate(uni_labels):\n",
    "    for perm in itertools.permutations(range(len(uni_labels))):\n",
    "        perm_label_map = {label: int_label for label, int_label in zip(uni_labels, perm)}\n",
    "        perm_labels = np.array([perm_label_map[label] for label in y_true])\n",
    "        acc = np.mean(perm_labels == y_pred)\n",
    "        if acc > best_acc:\n",
    "            best_perm = {num: l for num, l in zip(perm, uni_labels)}\n",
    "            best_acc = acc\n",
    "print('Train Accuracy:', best_acc)\n",
    "\n",
    "y_pred = np.array([np.argmax(i) for i in nmf.transform(tf_test)])\n",
    "nmf100 = pd.DataFrame(columns=['ArticleId', 'Category'])\n",
    "nmf100['ArticleId'] = test.ArticleId\n",
    "nmf100['Category'] = [best_perm[i] for i in y_pred]\n",
    "nmf100.to_csv('nmf100.csv', index=False)"
   ]
  },
  {
   "cell_type": "markdown",
   "id": "10387577",
   "metadata": {},
   "source": [
    "Accuracy on Kaggle: 0.94285"
   ]
  },
  {
   "cell_type": "markdown",
   "id": "9e72fdb2",
   "metadata": {},
   "source": [
    "#### 4.3 Non-negative Matrix Facorization Model with 75% Lables:"
   ]
  },
  {
   "cell_type": "code",
   "execution_count": 102,
   "id": "70cdf4a8",
   "metadata": {},
   "outputs": [
    {
     "name": "stderr",
     "output_type": "stream",
     "text": [
      "C:\\ProgramData\\Anaconda3\\lib\\site-packages\\sklearn\\decomposition\\_nmf.py:289: FutureWarning: The 'init' value, when 'init=None' and n_components is less than n_samples and n_features, will be changed from 'nndsvd' to 'nndsvda' in 1.1 (renaming of 0.26).\n",
      "  warnings.warn(\n"
     ]
    },
    {
     "name": "stdout",
     "output_type": "stream",
     "text": [
      "Train Accuracy: 0.9407407407407408\n"
     ]
    }
   ],
   "source": [
    "train_75 = train.sample(frac=0.75, random_state=26)\n",
    "tf = TfidfVectorizer(sublinear_tf=True,\n",
    "                     max_df=0.8,\n",
    "                     min_df=8,\n",
    "                     stop_words='english')\n",
    "tf.fit(train_75['Text'])\n",
    "tf_train = tf.transform(train_75['Text'])\n",
    "tf_test = tf.transform(test['Text'])\n",
    "\n",
    "nmf = NMF(train_75['Category'].nunique(), random_state=0)\n",
    "nmf.fit(tf_train)\n",
    "y_pred = np.array([np.argmax(i) for i in nmf.transform(tf_train)])\n",
    "y_true = np.array(train_75.Category).reshape(-1)\n",
    "uni_labels = np.unique(y_true)\n",
    "best_perm = None\n",
    "best_acc = 0\n",
    "for i, label in enumerate(uni_labels):\n",
    "    for perm in itertools.permutations(range(len(uni_labels))):\n",
    "        perm_label_map = {label: int_label for label, int_label in zip(uni_labels, perm)}\n",
    "        perm_labels = np.array([perm_label_map[label] for label in y_true])\n",
    "        acc = np.mean(perm_labels == y_pred)\n",
    "        if acc > best_acc:\n",
    "            best_perm = {num: l for num, l in zip(perm, uni_labels)}\n",
    "            best_acc = acc\n",
    "print('Train Accuracy:', best_acc)\n",
    "\n",
    "y_pred = np.array([np.argmax(i) for i in nmf.transform(tf_test)])\n",
    "nmf75 = pd.DataFrame(columns=['ArticleId', 'Category'])\n",
    "nmf75['ArticleId'] = test.ArticleId\n",
    "nmf75['Category'] = [best_perm[i] for i in y_pred]\n",
    "nmf75.to_csv('nmf75.csv', index=False)"
   ]
  },
  {
   "cell_type": "markdown",
   "id": "4705f6c0",
   "metadata": {},
   "source": [
    "Accuracy on Kaggle: 0.94285"
   ]
  },
  {
   "cell_type": "markdown",
   "id": "5489aafe",
   "metadata": {},
   "source": [
    "#### 4.4 Non-negative Matrix Facorization Model with 50% Lables:"
   ]
  },
  {
   "cell_type": "code",
   "execution_count": 103,
   "id": "74590d8d",
   "metadata": {},
   "outputs": [
    {
     "name": "stderr",
     "output_type": "stream",
     "text": [
      "C:\\ProgramData\\Anaconda3\\lib\\site-packages\\sklearn\\decomposition\\_nmf.py:289: FutureWarning: The 'init' value, when 'init=None' and n_components is less than n_samples and n_features, will be changed from 'nndsvd' to 'nndsvda' in 1.1 (renaming of 0.26).\n",
      "  warnings.warn(\n"
     ]
    },
    {
     "name": "stdout",
     "output_type": "stream",
     "text": [
      "Train Accuracy: 0.9472222222222222\n"
     ]
    }
   ],
   "source": [
    "train_50 = train.sample(frac=0.5, random_state=26)\n",
    "tf = TfidfVectorizer(sublinear_tf=True,\n",
    "                     max_df=0.8,\n",
    "                     min_df=8,\n",
    "                     stop_words='english')\n",
    "tf.fit(train_50['Text'])\n",
    "tf_train = tf.transform(train_50['Text'])\n",
    "tf_test = tf.transform(test['Text'])\n",
    "\n",
    "nmf = NMF(train_50['Category'].nunique(), random_state=0)\n",
    "nmf.fit(tf_train)\n",
    "y_pred = np.array([np.argmax(i) for i in nmf.transform(tf_train)])\n",
    "y_true = np.array(train_50.Category).reshape(-1)\n",
    "uni_labels = np.unique(y_true)\n",
    "best_perm = None\n",
    "best_acc = 0\n",
    "for i, label in enumerate(uni_labels):\n",
    "    for perm in itertools.permutations(range(len(uni_labels))):\n",
    "        perm_label_map = {label: int_label for label, int_label in zip(uni_labels, perm)}\n",
    "        perm_labels = np.array([perm_label_map[label] for label in y_true])\n",
    "        acc = np.mean(perm_labels == y_pred)\n",
    "        if acc > best_acc:\n",
    "            best_perm = {num: l for num, l in zip(perm, uni_labels)}\n",
    "            best_acc = acc\n",
    "print('Train Accuracy:', best_acc)\n",
    "\n",
    "y_pred = np.array([np.argmax(i) for i in nmf.transform(tf_test)])\n",
    "nmf50 = pd.DataFrame(columns=['ArticleId', 'Category'])\n",
    "nmf50['ArticleId'] = test.ArticleId\n",
    "nmf50['Category'] = [best_perm[i] for i in y_pred]\n",
    "nmf50.to_csv('nmf50.csv', index=False)"
   ]
  },
  {
   "cell_type": "markdown",
   "id": "6365dbe7",
   "metadata": {},
   "source": [
    "Accuracy on Kaggle: 0.94557"
   ]
  },
  {
   "cell_type": "markdown",
   "id": "7205f1be",
   "metadata": {},
   "source": [
    "#### 4.5 Non-negative Matrix Facorization Model with 25% Lables:"
   ]
  },
  {
   "cell_type": "code",
   "execution_count": 104,
   "id": "82ba3628",
   "metadata": {},
   "outputs": [
    {
     "name": "stderr",
     "output_type": "stream",
     "text": [
      "C:\\ProgramData\\Anaconda3\\lib\\site-packages\\sklearn\\decomposition\\_nmf.py:289: FutureWarning: The 'init' value, when 'init=None' and n_components is less than n_samples and n_features, will be changed from 'nndsvd' to 'nndsvda' in 1.1 (renaming of 0.26).\n",
      "  warnings.warn(\n"
     ]
    },
    {
     "name": "stdout",
     "output_type": "stream",
     "text": [
      "Train Accuracy: 0.9444444444444444\n"
     ]
    }
   ],
   "source": [
    "train_25 = train.sample(frac=0.25, random_state=26)\n",
    "tf = TfidfVectorizer(sublinear_tf=True,\n",
    "                     max_df=0.8,\n",
    "                     min_df=8,\n",
    "                     stop_words='english')\n",
    "tf.fit(train_25['Text'])\n",
    "tf_train = tf.transform(train_25['Text'])\n",
    "tf_test = tf.transform(test['Text'])\n",
    "\n",
    "nmf = NMF(train_25['Category'].nunique(), random_state=0)\n",
    "nmf.fit(tf_train)\n",
    "y_pred = np.array([np.argmax(i) for i in nmf.transform(tf_train)])\n",
    "y_true = np.array(train_25.Category).reshape(-1)\n",
    "uni_labels = np.unique(y_true)\n",
    "best_perm = None\n",
    "best_acc = 0\n",
    "for i, label in enumerate(uni_labels):\n",
    "    for perm in itertools.permutations(range(len(uni_labels))):\n",
    "        perm_label_map = {label: int_label for label, int_label in zip(uni_labels, perm)}\n",
    "        perm_labels = np.array([perm_label_map[label] for label in y_true])\n",
    "        acc = np.mean(perm_labels == y_pred)\n",
    "        if acc > best_acc:\n",
    "            best_perm = {num: l for num, l in zip(perm, uni_labels)}\n",
    "            best_acc = acc\n",
    "print('Train Accuracy:', best_acc)\n",
    "\n",
    "y_pred = np.array([np.argmax(i) for i in nmf.transform(tf_test)])\n",
    "nmf25 = pd.DataFrame(columns=['ArticleId', 'Category'])\n",
    "nmf25['ArticleId'] = test.ArticleId\n",
    "nmf25['Category'] = [best_perm[i] for i in y_pred]\n",
    "nmf25.to_csv('nmf25.csv', index=False)"
   ]
  },
  {
   "cell_type": "markdown",
   "id": "4e62782d",
   "metadata": {},
   "source": [
    "Accuracy on Kaggle: 0.94829"
   ]
  },
  {
   "cell_type": "markdown",
   "id": "f3b3a068",
   "metadata": {},
   "source": [
    "<div style=\"text-align:center\">\n",
    "<img src=\"https://github.com/milanfx/DTSA-5304/blob/main/image/NMF.png?raw=true\" alt=\"image description\" width=\"800\">\n",
    "</div>"
   ]
  },
  {
   "cell_type": "markdown",
   "id": "b38e0ae1",
   "metadata": {},
   "source": [
    "-----Non-negative Matrix Facorization Model: 0.94285(100%), 0.94285(75%), 0.94557(50%), 0.94829(25%)-----"
   ]
  },
  {
   "cell_type": "markdown",
   "id": "6d7bd3a5",
   "metadata": {},
   "source": [
    "1. The Non-negative Matrix Facorization Model achieves an accuracy of over 94% on the entire dataset.\n",
    "\n",
    "2. From 25% sample to 100%, the score maintains at 94%, indicating that the model is stable and very data-efficient. \n",
    "\n",
    "3. In addition, there is no overfitting in Non-negative Matrix Facorization Model."
   ]
  },
  {
   "cell_type": "code",
   "execution_count": 160,
   "id": "e9474413",
   "metadata": {},
   "outputs": [
    {
     "data": {
      "image/png": "[encoded data removed]",
      "text/plain": [
       "<Figure size 432x288 with 1 Axes>"
      ]
     },
     "metadata": {
      "needs_background": "light"
     },
     "output_type": "display_data"
    }
   ],
   "source": [
    "import matplotlib.pyplot as plt\n",
    "\n",
    "# Model scores\n",
    "lr_scores = [0.98231, 0.97551, 0.95918, 0.94149]\n",
    "nmf_scores = [0.94285, 0.94285, 0.94557, 0.94829]\n",
    "\n",
    "# Percentage of training data used\n",
    "train_percentages = [100, 75, 50, 25]\n",
    "\n",
    "# Plot the scores as two separate lines on the same graph\n",
    "plt.plot(train_percentages, lr_scores, label='Logistic Regression')\n",
    "plt.plot(train_percentages, nmf_scores, label='Non-negative Matrix Factorization')\n",
    "plt.xlabel('Percentage of Labels')\n",
    "plt.ylabel('Accuracy Score')\n",
    "plt.title('Model Comparison')\n",
    "plt.ylim(0, 1)\n",
    "plt.legend()\n",
    "plt.show()\n"
   ]
  },
  {
   "cell_type": "markdown",
   "id": "93cc11b1",
   "metadata": {},
   "source": [
    "### 5. Conclusion"
   ]
  },
  {
   "cell_type": "markdown",
   "id": "a759039b",
   "metadata": {},
   "source": [
    "In this project, we mainly used Logistic Regression model and Non-negative Matrix Facorization Model to predict the category of articles. Both two models performed very well, with prediction accuracy over 94%, and Logistic Regression had the highest score 98%.Both two models show very stable performance when we narrow down the lable scope, indicating they are both data-efficient.Besides, there is no overfitting signal.\n",
    "\n",
    "Overall, the performance of unsupervised learning on this dataset is surprisingly good, surpassing the performance of Random Forest, which indicates that NMF has great advantages in analyzing language models. Since text data usually has a high-dimensional feature space and sparsity, NMF can reduce high-dimensional data to a low-dimensional space and extract key semantic features, which is very useful for tasks such as text classification and topic modeling."
   ]
  },
  {
   "cell_type": "markdown",
   "id": "d9d80de3",
   "metadata": {},
   "source": [
    "Reference:\n",
    "\n",
    "https://scikit-learn.org/stable/modules/generated/sklearn.feature_extraction.text.TfidfVectorizer.html\n",
    "\n",
    "https://scikit-learn.org/stable/modules/generated/sklearn.decomposition.non_negative_factorization.html\n",
    "\n",
    "https://www.geeksforgeeks.org/removing-stop-words-nltk-python/"
   ]
  },
  {
   "cell_type": "code",
   "execution_count": null,
   "id": "a0141284",
   "metadata": {},
   "outputs": [],
   "source": []
  }
 ],
 "metadata": {
  "kernelspec": {
   "display_name": "Python 3 (ipykernel)",
   "language": "python",
   "name": "python3"
  },
  "language_info": {
   "codemirror_mode": {
    "name": "ipython",
    "version": 3
   },
   "file_extension": ".py",
   "mimetype": "text/x-python",
   "name": "python",
   "nbconvert_exporter": "python",
   "pygments_lexer": "ipython3",
   "version": "3.9.12"
  }
 },
 "nbformat": 4,
 "nbformat_minor": 5
}
